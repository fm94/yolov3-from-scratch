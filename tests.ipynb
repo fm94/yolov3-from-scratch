{
 "cells": [
  {
   "cell_type": "code",
   "execution_count": 68,
   "metadata": {},
   "outputs": [],
   "source": [
    "def parse_config(config_file):\n",
    "    with open(config_file) as f:\n",
    "        lines = f.readlines()\n",
    "    config = []\n",
    "    for line in lines:\n",
    "        if line and line != '\\n' and line[0] != '#':\n",
    "            stripped_line = line.replace(' ', '').replace('\\n', '')\n",
    "            if stripped_line[0] == '[':\n",
    "                try:\n",
    "                    config.append(data)\n",
    "                except UnboundLocalError:\n",
    "                    pass\n",
    "                data = {}\n",
    "                data['type'] = stripped_line[1:-1]\n",
    "            else:\n",
    "                [key, value] = stripped_line.split('=')\n",
    "                data[key] = value\n",
    "    config.append(data)\n",
    "    return config\n",
    "\n",
    "def parse_cfg(cfgfile):\n",
    "    \"\"\"\n",
    "    Takes a configuration file\n",
    "    \n",
    "    Returns a list of blocks. Each blocks describes a block in the neural\n",
    "    network to be built. Block is represented as a dictionary in the list\n",
    "    \n",
    "    \"\"\"\n",
    "\n",
    "    file = open(cfgfile, 'r')\n",
    "    lines = file.read().split('\\n')                        # store the lines in a list\n",
    "    lines = [x for x in lines if len(x) > 0]               # get read of the empty lines \n",
    "    lines = [x for x in lines if x[0] != '#']              # get rid of comments\n",
    "    lines = [x.rstrip().lstrip() for x in lines]           # get rid of fringe whitespaces\n",
    "    \n",
    "    block = {}\n",
    "    blocks = []\n",
    "\n",
    "    for line in lines:\n",
    "        if line[0] == \"[\":               # This marks the start of a new block\n",
    "            if len(block) != 0:          # If block is not empty, implies it is storing values of previous block.\n",
    "                blocks.append(block)     # add it the blocks list\n",
    "                block = {}               # re-init the block\n",
    "            block[\"type\"] = line[1:-1].rstrip()     \n",
    "        else:\n",
    "            key,value = line.split(\"=\") \n",
    "            block[key.rstrip()] = value.lstrip()\n",
    "    blocks.append(block)\n",
    "\n",
    "    return blocks"
   ]
  },
  {
   "cell_type": "code",
   "execution_count": 69,
   "metadata": {},
   "outputs": [],
   "source": [
    "a = parse_cfg('yolov3.cfg')\n",
    "b = parse_config('yolov3.cfg')"
   ]
  },
  {
   "cell_type": "code",
   "execution_count": 70,
   "metadata": {},
   "outputs": [
    {
     "name": "stdout",
     "output_type": "stream",
     "text": [
      "83\n",
      "87\n",
      "95\n",
      "99\n",
      "107\n"
     ]
    }
   ],
   "source": [
    "for i in range(len(b)):\n",
    "    if not (a[i] == b[i]):\n",
    "        print(i)"
   ]
  },
  {
   "cell_type": "code",
   "execution_count": 71,
   "metadata": {},
   "outputs": [
    {
     "data": {
      "text/plain": [
       "{'type': 'yolo',\n",
       " 'mask': '0,1,2',\n",
       " 'anchors': '10,13,  16,30,  33,23,  30,61,  62,45,  59,119,  116,90,  156,198,  373,326',\n",
       " 'classes': '80',\n",
       " 'num': '9',\n",
       " 'jitter': '.3',\n",
       " 'ignore_thresh': '.7',\n",
       " 'truth_thresh': '1',\n",
       " 'random': '1'}"
      ]
     },
     "execution_count": 71,
     "metadata": {},
     "output_type": "execute_result"
    }
   ],
   "source": [
    "a[107]"
   ]
  },
  {
   "cell_type": "code",
   "execution_count": 72,
   "metadata": {},
   "outputs": [
    {
     "data": {
      "text/plain": [
       "{'type': 'yolo',\n",
       " 'mask': '0,1,2',\n",
       " 'anchors': '10,13,16,30,33,23,30,61,62,45,59,119,116,90,156,198,373,326',\n",
       " 'classes': '80',\n",
       " 'num': '9',\n",
       " 'jitter': '.3',\n",
       " 'ignore_thresh': '.7',\n",
       " 'truth_thresh': '1',\n",
       " 'random': '1'}"
      ]
     },
     "execution_count": 72,
     "metadata": {},
     "output_type": "execute_result"
    }
   ],
   "source": [
    "b[107]"
   ]
  },
  {
   "cell_type": "code",
   "execution_count": null,
   "metadata": {},
   "outputs": [],
   "source": []
  }
 ],
 "metadata": {
  "kernelspec": {
   "display_name": "Python 3.7.2 ('base')",
   "language": "python",
   "name": "python3"
  },
  "language_info": {
   "codemirror_mode": {
    "name": "ipython",
    "version": 3
   },
   "file_extension": ".py",
   "mimetype": "text/x-python",
   "name": "python",
   "nbconvert_exporter": "python",
   "pygments_lexer": "ipython3",
   "version": "3.7.2"
  },
  "orig_nbformat": 4,
  "vscode": {
   "interpreter": {
    "hash": "f7e8a9c3cfd1ac54025c76cbf0ea5c4d7409f7159bc81d57c090bcfa4ed65d96"
   }
  }
 },
 "nbformat": 4,
 "nbformat_minor": 2
}
